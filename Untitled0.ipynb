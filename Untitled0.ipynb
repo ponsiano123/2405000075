{
  "nbformat": 4,
  "nbformat_minor": 0,
  "metadata": {
    "colab": {
      "provenance": [],
      "authorship_tag": "ABX9TyMUO+pIb5fSGufkcNWRAcP8",
      "include_colab_link": true
    },
    "kernelspec": {
      "name": "python3",
      "display_name": "Python 3"
    },
    "language_info": {
      "name": "python"
    }
  },
  "cells": [
    {
      "cell_type": "markdown",
      "metadata": {
        "id": "view-in-github",
        "colab_type": "text"
      },
      "source": [
        "<a href=\"https://colab.research.google.com/github/ponsiano123/2405000075/blob/main/Untitled0.ipynb\" target=\"_parent\"><img src=\"https://colab.research.google.com/assets/colab-badge.svg\" alt=\"Open In Colab\"/></a>"
      ]
    },
    {
      "cell_type": "code",
      "execution_count": 3,
      "metadata": {
        "colab": {
          "base_uri": "https://localhost:8080/"
        },
        "id": "oleL1ikkWZwz",
        "outputId": "c312e246-cc2b-4b16-f43e-e0cd521273d7"
      },
      "outputs": [
        {
          "output_type": "stream",
          "name": "stdout",
          "text": [
            "Hate speech detected! Offensive words: ['cockroaches', 'kill', 'exterminate', 'destroy', 'tutsi']\n"
          ]
        }
      ],
      "source": [
        "# List of offensive words related to the Rwandan genocide\n",
        "offensive_words = [\n",
        "    \"inyenzi\", \"cockroaches\", \"kill\", \"exterminate\", \"destroy\",\n",
        "    \"traitors\", \"snakes\", \"rats\", \"hutu power\", \"tutsi\",\n",
        "    \"ethnic cleansing\", \"wipe out\", \"enemy\", \"revenge\",\n",
        "    \"impurity\", \"traitors\", \"infiltrators\", \"parasites\"\n",
        "]\n",
        "\n",
        "# Function to detect hate speech\n",
        "def detect_hate_speech(text):\n",
        "    # Convert the text to lowercase and check for each offensive word\n",
        "    detected_words = [word for word in offensive_words if word in text.lower()]\n",
        "    return detected_words\n",
        "\n",
        "# Example text (replace this with the actual speech you want to analyze)\n",
        "text = \"\"\"\n",
        "The Tutsis are like cockroaches, they must be exterminated, they must be killed, and we, the Hutus, will be the ones to do it. We must carry out our revolution, and the revolution is to eliminate the Tutsi. If we do not kill them, they will kill us. There are no more excuses. We must be like the grasshoppers and finish off the cockroaches. We must get rid of them.”\n",
        "\n",
        "“We will have to be like the grasshoppers that finish off the cockroaches. The only way to stop this is to have the Tutsi leave Rwanda. They must be sent back to Ethiopia. They will be repatriated, and they will no longer be a problem. If we don’t do it, they will eventually kill us. We must act now before they destroy us\n",
        "\"\"\"\n",
        "\n",
        "# Detect hate speech in the text\n",
        "hate_words = detect_hate_speech(text)\n",
        "\n",
        "# Print the result\n",
        "if hate_words:\n",
        "    print(\"Hate speech detected! Offensive words:\", hate_words)\n",
        "else:\n",
        "    print(\"No hate speech detected.\")\n"
      ]
    }
  ]
}