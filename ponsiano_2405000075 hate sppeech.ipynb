{
  "nbformat": 4,
  "nbformat_minor": 0,
  "metadata": {
    "colab": {
      "provenance": [],
      "toc_visible": true
    },
    "kernelspec": {
      "name": "python3",
      "display_name": "Python 3"
    },
    "language_info": {
      "name": "python"
    }
  },
  "cells": [
    {
      "cell_type": "code",
      "execution_count": 1,
      "metadata": {
        "colab": {
          "base_uri": "https://localhost:8080/"
        },
        "id": "9eCviiu6cq7V",
        "outputId": "40c07da1-f89b-482c-cc37-50fe26e94d60"
      },
      "outputs": [
        {
          "output_type": "stream",
          "name": "stdout",
          "text": [
            "Hate speech detected! Offensive words: ['cockroaches', 'kill', 'exterminate', 'destroy', 'tutsi']\n"
          ]
        }
      ],
      "source": [
        "offensive_words = [\n",
        "    \"inyenzi\", \"cockroaches\", \"kill\", \"exterminate\", \"destroy\",\n",
        "    \"traitors\", \"snakes\", \"rats\", \"hutu power\", \"tutsi\",\n",
        "    \"ethnic cleansing\", \"wipe out\", \"enemy\", \"revenge\",\n",
        "    \"impurity\", \"traitors\", \"infiltrators\", \"parasites, attack\"\n",
        "]\n",
        "\n",
        "# Function to detect hate speech\n",
        "def detect_hate_speech(speech_hate_words):\n",
        "    detected_words = [word for word in offensive_words if word in speech_hate_words.lower()]\n",
        "    return detected_words\n",
        "\n",
        "# Example usage\n",
        "speech_hate_words = \"The Tutsis are like cockroaches, they must be exterminated, they must be killed, and we, the Hutus, will be the ones to do it. We must carry out our revolution, and the revolution is to eliminate the Tutsi. If we do not kill them, they will kill us. There are no more excuses. We must be like the grasshoppers and finish off the cockroaches. We must get rid of them. We will have to be like the grasshoppers that finish off the cockroaches. The only way to stop this is to have the Tutsi leave Rwanda. They must be sent back to Ethiopia. They will be repatriated, and they will no longer be a problem. If we don’t do it, they will eventually kill us. We must act now before they destroy us\"\n",
        "hate_words = detect_hate_speech(speech_hate_words)\n",
        "if hate_words:\n",
        "    print(\"Hate speech detected! Offensive words:\", hate_words)\n",
        "else:\n",
        "    print(\"No hate speech detected.\")"
      ]
    }
  ]
}